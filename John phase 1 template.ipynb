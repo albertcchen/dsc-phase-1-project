{
 "cells": [
  {
   "cell_type": "markdown",
   "metadata": {},
   "source": [
    "![example](https://variety.com/wp-content/uploads/2021/11/Halo-Paramount-Plus-1.jpg)"
   ]
  },
  {
   "cell_type": "markdown",
   "metadata": {},
   "source": [
    "# Why Microsoft Should Tap into Its Gaming IP to Open a Profitable Movie Studio\n",
    "\n",
    "**Authors:** Albert Cheng, Sean Conlon, John Nahra\n",
    "***"
   ]
  },
  {
   "cell_type": "markdown",
   "metadata": {},
   "source": [
    "## Overview\n",
    "\n",
    "Microsoft wants to open its own movie studio and is looking for recommendations that will improve its chances of success in this new venture. Knowing that Microsoft owns Xbox and thus has existing video game intellectual property, we posited that this pre-existing unique content could be turned into movies that have a great chance to perform well at the box office. Bolstering our case: (1) video games are very popular and have international followings, which means a large pre-built audience, (2) video game movies represent free advertising for the games themselves and thus can boost game sales, (3) video games are cinematic, immersive, and have compelling stories, meaning they translate well to the big screen, and (4) recent movies based off video games have performed well, and many of the top performing movie genres align with video game genres. We looked at movie data from IMDb and The Numbers on box office revenue, production budget, genre, ratings, and runtime. As a result of our analysis, we recommend that Microsoft turn its gaming IP into movies about 2-2.5 hours in length with global appeal and that they ensure quality in writing and production. We feel these steps will maximize Microsoft's return on investment (ROI) as they seek to open a profitable movie studio."
   ]
  },
  {
   "cell_type": "markdown",
   "metadata": {},
   "source": [
    "## Business Problem\n",
    "\n",
    "Microsoft wants to open a movie studio. As a private company, they are primarily concerned with generating profit. Thus, the question is: how to open a profitable movie studio? To answer this question, it makes the most sense to look at the most profitable movies and their characteristics."
   ]
  },
  {
   "cell_type": "markdown",
   "metadata": {},
   "source": [
    "## Data Understanding\n",
    "\n",
    "We used movie data from IMDb and The Numbers on box office revenue (worldwide and domestic), production budget, genre, ratings (out of 10), and runtime. Our target variable is ROI, which we calculated by subtracting the production budget from worldwide box office revenue to get a profit measure, then dividing profit by the production budget (multiplied by 100 to get ROI as % return). We also calculated a domestic revenue share variable (domestic box office revenue divided by worldwide box office revenue * 100). With the ROI for each film, we can group films by genre, runtime, rating, and domestic revenue share and determine if there are optimal characteristics of high ROI movies."
   ]
  },
  {
   "cell_type": "code",
   "execution_count": 1,
   "metadata": {},
   "outputs": [],
   "source": [
    "# Import standard packages\n",
    "import pandas as pd\n",
    "import numpy as np\n",
    "import matplotlib.pyplot as plt\n",
    "import seaborn as sns\n",
    "\n",
    "%matplotlib inline"
   ]
  },
  {
   "cell_type": "code",
   "execution_count": 2,
   "metadata": {},
   "outputs": [],
   "source": [
    "# Here you run your code to explore the data"
   ]
  },
  {
   "cell_type": "markdown",
   "metadata": {},
   "source": [
    "## Data Preparation\n",
    "\n",
    "After looking at the movie data, we determined that minimum parameters should be set for production budget, number of rating votes, and runtime. We chose to look at films with production budgets over $10 million and runtimes over 75 minutes because we wished to remove outliers at the bottom of the distribution, and because it is reasonable to assume that Microsoft, as a large company with deep pockets, will not be making very small budget films (which would tend to be shorter in length). (Very small production budget films also can skew the ROI data if they perform well due to the smaller production budget denominator in the ROI calculation.) We set the minimum number of rating votes at 1000 to determine that the average rating was representative of a larger population rather than skewed by a select few. After filtering, we were left with roughly 1000 movies that were released between 2010 and 2019."
   ]
  },
  {
   "cell_type": "code",
   "execution_count": 6,
   "metadata": {},
   "outputs": [],
   "source": [
    "# Here you run your code to clean the data"
   ]
  },
  {
   "cell_type": "markdown",
   "metadata": {},
   "source": [
    "## Data Modeling\n",
    "\n",
    "We grouped films by genre, runtime, rating, and domestic revenue share to determine if there are optimal characteristics of high ROI movies. We looked at both mean and median ROI of each runtime and rating bin just in case the mean was skewed by outliers, but the results were similar. For genres, we used a weighted mean ROI measure, which gives more weight to films with larger budgets and revenues. We felt this was appropriate given the potential for smaller sample sizes when grouping by genre (we only used genres with greater than five movies in order to lessen this concern somewhat). In addition, we felt it was better to give more weight to larger films using the weighted ROI rather than give more weight to smaller films with high ROIs using mean ROI, since Microsoft was more likely to produce large budget films.\n",
    "\n",
    "We also looked at the top 100 films by ROI as well as films with negative ROI and observed both group's characteristics as well."
   ]
  },
  {
   "cell_type": "code",
   "execution_count": null,
   "metadata": {},
   "outputs": [],
   "source": [
    "# Here you run your code to model the data\n"
   ]
  },
  {
   "cell_type": "markdown",
   "metadata": {},
   "source": [
    "## Evaluation\n",
    "\n",
    "Given the data we were given to work with, we believe that our work provides a good jumping off point for Microsoft's movie studio.\n",
    "\n",
    "In our view, there is compelling evidence that video game genres align with current top genres by ROI. However, in other cases, findings must be interpreted carefully. It can be difficult to discern correlation from causation. For example, the most profitable movies had a greater share of box office revenue abroad than unprofitable movies. Yet is this because these films made their movie with global appeal, or because it was simply a good movie and thus performed well everywhere (and the rest of the world is larger than the US)? We also need to be careful interpreting findings given that they may not be statistically significant. How confident can we be that the mean ROI for films 2-2.5 hours is truly higher than the mean ROI for films of other lengths? To answer this question, we would need more data and to run hypothesis tests."
   ]
  },
  {
   "cell_type": "markdown",
   "metadata": {},
   "source": [
    "## Conclusions\n",
    "\n",
    "As a result of our analysis, we have four key recommendations. First, there's a strong case for producing video games, given that popular gaming genres align with current successful movie genres. Second, 2-2.5 hours appears to have the potential to be the optimal runtime to achieve the highest possible ROI. Third, Microsoft should ensure quality in writing and producing. Films rated higher than 6 out of 10 did significantly better at the box office. And fourth, keep international markets in mind. Video games are international products. Microsoft can boost ROI by giving these movies global appeal.\n",
    "\n",
    "If we had more data, one thing we would love to do is group films by genre and runtime for example to see if there is an optimal runtime for genre-specific movies.\n",
    "\n",
    "One future step is to explore which video game IP to turn into a movie first. We only looked at data before 2019, and a good number of video game movies have come out since then, so looking into more recent genre trends would be useful in producing a successful box office hit. After deciding on the video game IP, next steps would be to determine the right budget size, movie characteristics such as the target demographic, and identifying whether to tweak the genre to maximize ROI.\n",
    "\n",
    "Xbox Gaming Studios has many gaming titles it can tap into, so the possibilities are endless!"
   ]
  },
  {
   "cell_type": "code",
   "execution_count": null,
   "metadata": {},
   "outputs": [],
   "source": []
  }
 ],
 "metadata": {
  "kernelspec": {
   "display_name": "Python 3",
   "language": "python",
   "name": "python3"
  },
  "language_info": {
   "codemirror_mode": {
    "name": "ipython",
    "version": 3
   },
   "file_extension": ".py",
   "mimetype": "text/x-python",
   "name": "python",
   "nbconvert_exporter": "python",
   "pygments_lexer": "ipython3",
   "version": "3.8.5"
  }
 },
 "nbformat": 4,
 "nbformat_minor": 4
}
