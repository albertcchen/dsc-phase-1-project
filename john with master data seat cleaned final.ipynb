{
 "cells": [
  {
   "cell_type": "code",
   "execution_count": 1,
   "metadata": {},
   "outputs": [],
   "source": [
    "import pandas as pd\n",
    "import matplotlib.pyplot as plt\n",
    "%matplotlib inline\n",
    "import seaborn as sns\n"
   ]
  },
  {
   "cell_type": "code",
   "execution_count": 2,
   "metadata": {},
   "outputs": [],
   "source": [
    "df = pd.read_csv('masterdataset.csv')"
   ]
  },
  {
   "cell_type": "code",
   "execution_count": 3,
   "metadata": {},
   "outputs": [
    {
     "data": {
      "text/html": [
       "<div>\n",
       "<style scoped>\n",
       "    .dataframe tbody tr th:only-of-type {\n",
       "        vertical-align: middle;\n",
       "    }\n",
       "\n",
       "    .dataframe tbody tr th {\n",
       "        vertical-align: top;\n",
       "    }\n",
       "\n",
       "    .dataframe thead th {\n",
       "        text-align: right;\n",
       "    }\n",
       "</style>\n",
       "<table border=\"1\" class=\"dataframe\">\n",
       "  <thead>\n",
       "    <tr style=\"text-align: right;\">\n",
       "      <th></th>\n",
       "      <th>Unnamed: 0</th>\n",
       "      <th>id</th>\n",
       "      <th>release_date</th>\n",
       "      <th>movie</th>\n",
       "      <th>production_budget</th>\n",
       "      <th>domestic_gross</th>\n",
       "      <th>worldwide_gross</th>\n",
       "      <th>year</th>\n",
       "      <th>movie_id</th>\n",
       "      <th>original_title</th>\n",
       "      <th>runtime_minutes</th>\n",
       "      <th>genres</th>\n",
       "      <th>averagerating</th>\n",
       "      <th>numvotes</th>\n",
       "    </tr>\n",
       "  </thead>\n",
       "  <tbody>\n",
       "    <tr>\n",
       "      <th>0</th>\n",
       "      <td>0</td>\n",
       "      <td>2</td>\n",
       "      <td>May 20, 2011</td>\n",
       "      <td>Pirates of the Caribbean: On Stranger Tides</td>\n",
       "      <td>$410,600,000</td>\n",
       "      <td>$241,063,875</td>\n",
       "      <td>$1,045,663,875</td>\n",
       "      <td>2011</td>\n",
       "      <td>tt1298650</td>\n",
       "      <td>Pirates of the Caribbean: On Stranger Tides</td>\n",
       "      <td>136.0</td>\n",
       "      <td>Action,Adventure,Fantasy</td>\n",
       "      <td>6.6</td>\n",
       "      <td>447624.0</td>\n",
       "    </tr>\n",
       "    <tr>\n",
       "      <th>1</th>\n",
       "      <td>1</td>\n",
       "      <td>3</td>\n",
       "      <td>Jun 7, 2019</td>\n",
       "      <td>Dark Phoenix</td>\n",
       "      <td>$350,000,000</td>\n",
       "      <td>$42,762,350</td>\n",
       "      <td>$149,762,350</td>\n",
       "      <td>2019</td>\n",
       "      <td>tt6565702</td>\n",
       "      <td>Dark Phoenix</td>\n",
       "      <td>113.0</td>\n",
       "      <td>Action,Adventure,Sci-Fi</td>\n",
       "      <td>6.0</td>\n",
       "      <td>24451.0</td>\n",
       "    </tr>\n",
       "    <tr>\n",
       "      <th>2</th>\n",
       "      <td>2</td>\n",
       "      <td>4</td>\n",
       "      <td>May 1, 2015</td>\n",
       "      <td>Avengers: Age of Ultron</td>\n",
       "      <td>$330,600,000</td>\n",
       "      <td>$459,005,868</td>\n",
       "      <td>$1,403,013,963</td>\n",
       "      <td>2015</td>\n",
       "      <td>tt2395427</td>\n",
       "      <td>Avengers: Age of Ultron</td>\n",
       "      <td>141.0</td>\n",
       "      <td>Action,Adventure,Sci-Fi</td>\n",
       "      <td>7.3</td>\n",
       "      <td>665594.0</td>\n",
       "    </tr>\n",
       "    <tr>\n",
       "      <th>3</th>\n",
       "      <td>3</td>\n",
       "      <td>7</td>\n",
       "      <td>Apr 27, 2018</td>\n",
       "      <td>Avengers: Infinity War</td>\n",
       "      <td>$300,000,000</td>\n",
       "      <td>$678,815,482</td>\n",
       "      <td>$2,048,134,200</td>\n",
       "      <td>2018</td>\n",
       "      <td>tt4154756</td>\n",
       "      <td>Avengers: Infinity War</td>\n",
       "      <td>149.0</td>\n",
       "      <td>Action,Adventure,Sci-Fi</td>\n",
       "      <td>8.5</td>\n",
       "      <td>670926.0</td>\n",
       "    </tr>\n",
       "    <tr>\n",
       "      <th>4</th>\n",
       "      <td>4</td>\n",
       "      <td>9</td>\n",
       "      <td>Nov 17, 2017</td>\n",
       "      <td>Justice League</td>\n",
       "      <td>$300,000,000</td>\n",
       "      <td>$229,024,295</td>\n",
       "      <td>$655,945,209</td>\n",
       "      <td>2017</td>\n",
       "      <td>tt0974015</td>\n",
       "      <td>Justice League</td>\n",
       "      <td>120.0</td>\n",
       "      <td>Action,Adventure,Fantasy</td>\n",
       "      <td>6.5</td>\n",
       "      <td>329135.0</td>\n",
       "    </tr>\n",
       "  </tbody>\n",
       "</table>\n",
       "</div>"
      ],
      "text/plain": [
       "   Unnamed: 0  id  release_date                                        movie  \\\n",
       "0           0   2  May 20, 2011  Pirates of the Caribbean: On Stranger Tides   \n",
       "1           1   3   Jun 7, 2019                                 Dark Phoenix   \n",
       "2           2   4   May 1, 2015                      Avengers: Age of Ultron   \n",
       "3           3   7  Apr 27, 2018                       Avengers: Infinity War   \n",
       "4           4   9  Nov 17, 2017                               Justice League   \n",
       "\n",
       "  production_budget domestic_gross worldwide_gross  year   movie_id  \\\n",
       "0      $410,600,000   $241,063,875  $1,045,663,875  2011  tt1298650   \n",
       "1      $350,000,000    $42,762,350    $149,762,350  2019  tt6565702   \n",
       "2      $330,600,000   $459,005,868  $1,403,013,963  2015  tt2395427   \n",
       "3      $300,000,000   $678,815,482  $2,048,134,200  2018  tt4154756   \n",
       "4      $300,000,000   $229,024,295    $655,945,209  2017  tt0974015   \n",
       "\n",
       "                                original_title  runtime_minutes  \\\n",
       "0  Pirates of the Caribbean: On Stranger Tides            136.0   \n",
       "1                                 Dark Phoenix            113.0   \n",
       "2                      Avengers: Age of Ultron            141.0   \n",
       "3                       Avengers: Infinity War            149.0   \n",
       "4                               Justice League            120.0   \n",
       "\n",
       "                     genres  averagerating  numvotes  \n",
       "0  Action,Adventure,Fantasy            6.6  447624.0  \n",
       "1   Action,Adventure,Sci-Fi            6.0   24451.0  \n",
       "2   Action,Adventure,Sci-Fi            7.3  665594.0  \n",
       "3   Action,Adventure,Sci-Fi            8.5  670926.0  \n",
       "4  Action,Adventure,Fantasy            6.5  329135.0  "
      ]
     },
     "execution_count": 3,
     "metadata": {},
     "output_type": "execute_result"
    }
   ],
   "source": [
    "df.head()"
   ]
  },
  {
   "cell_type": "code",
   "execution_count": 4,
   "metadata": {},
   "outputs": [
    {
     "name": "stdout",
     "output_type": "stream",
     "text": [
      "<class 'pandas.core.frame.DataFrame'>\n",
      "RangeIndex: 1459 entries, 0 to 1458\n",
      "Data columns (total 14 columns):\n",
      " #   Column             Non-Null Count  Dtype  \n",
      "---  ------             --------------  -----  \n",
      " 0   Unnamed: 0         1459 non-null   int64  \n",
      " 1   id                 1459 non-null   int64  \n",
      " 2   release_date       1459 non-null   object \n",
      " 3   movie              1459 non-null   object \n",
      " 4   production_budget  1459 non-null   object \n",
      " 5   domestic_gross     1459 non-null   object \n",
      " 6   worldwide_gross    1459 non-null   object \n",
      " 7   year               1459 non-null   int64  \n",
      " 8   movie_id           1459 non-null   object \n",
      " 9   original_title     1459 non-null   object \n",
      " 10  runtime_minutes    1459 non-null   float64\n",
      " 11  genres             1459 non-null   object \n",
      " 12  averagerating      1459 non-null   float64\n",
      " 13  numvotes           1459 non-null   float64\n",
      "dtypes: float64(3), int64(3), object(8)\n",
      "memory usage: 159.7+ KB\n"
     ]
    }
   ],
   "source": [
    "df.info()"
   ]
  },
  {
   "cell_type": "code",
   "execution_count": 5,
   "metadata": {},
   "outputs": [
    {
     "data": {
      "text/html": [
       "<div>\n",
       "<style scoped>\n",
       "    .dataframe tbody tr th:only-of-type {\n",
       "        vertical-align: middle;\n",
       "    }\n",
       "\n",
       "    .dataframe tbody tr th {\n",
       "        vertical-align: top;\n",
       "    }\n",
       "\n",
       "    .dataframe thead th {\n",
       "        text-align: right;\n",
       "    }\n",
       "</style>\n",
       "<table border=\"1\" class=\"dataframe\">\n",
       "  <thead>\n",
       "    <tr style=\"text-align: right;\">\n",
       "      <th></th>\n",
       "      <th>Unnamed: 0</th>\n",
       "      <th>id</th>\n",
       "      <th>year</th>\n",
       "      <th>runtime_minutes</th>\n",
       "      <th>averagerating</th>\n",
       "      <th>numvotes</th>\n",
       "    </tr>\n",
       "  </thead>\n",
       "  <tbody>\n",
       "    <tr>\n",
       "      <th>count</th>\n",
       "      <td>1459.000000</td>\n",
       "      <td>1459.000000</td>\n",
       "      <td>1459.000000</td>\n",
       "      <td>1459.000000</td>\n",
       "      <td>1459.000000</td>\n",
       "      <td>1.459000e+03</td>\n",
       "    </tr>\n",
       "    <tr>\n",
       "      <th>mean</th>\n",
       "      <td>764.222755</td>\n",
       "      <td>51.002056</td>\n",
       "      <td>2013.849897</td>\n",
       "      <td>107.643592</td>\n",
       "      <td>6.279918</td>\n",
       "      <td>1.178483e+05</td>\n",
       "    </tr>\n",
       "    <tr>\n",
       "      <th>std</th>\n",
       "      <td>445.325159</td>\n",
       "      <td>28.650357</td>\n",
       "      <td>2.568423</td>\n",
       "      <td>17.905381</td>\n",
       "      <td>1.065683</td>\n",
       "      <td>1.652269e+05</td>\n",
       "    </tr>\n",
       "    <tr>\n",
       "      <th>min</th>\n",
       "      <td>0.000000</td>\n",
       "      <td>1.000000</td>\n",
       "      <td>2010.000000</td>\n",
       "      <td>5.000000</td>\n",
       "      <td>1.600000</td>\n",
       "      <td>5.000000e+00</td>\n",
       "    </tr>\n",
       "    <tr>\n",
       "      <th>25%</th>\n",
       "      <td>379.500000</td>\n",
       "      <td>26.000000</td>\n",
       "      <td>2012.000000</td>\n",
       "      <td>95.000000</td>\n",
       "      <td>5.700000</td>\n",
       "      <td>1.604650e+04</td>\n",
       "    </tr>\n",
       "    <tr>\n",
       "      <th>50%</th>\n",
       "      <td>759.000000</td>\n",
       "      <td>51.000000</td>\n",
       "      <td>2014.000000</td>\n",
       "      <td>105.000000</td>\n",
       "      <td>6.400000</td>\n",
       "      <td>6.051000e+04</td>\n",
       "    </tr>\n",
       "    <tr>\n",
       "      <th>75%</th>\n",
       "      <td>1148.500000</td>\n",
       "      <td>76.000000</td>\n",
       "      <td>2016.000000</td>\n",
       "      <td>118.000000</td>\n",
       "      <td>7.000000</td>\n",
       "      <td>1.450510e+05</td>\n",
       "    </tr>\n",
       "    <tr>\n",
       "      <th>max</th>\n",
       "      <td>1546.000000</td>\n",
       "      <td>100.000000</td>\n",
       "      <td>2019.000000</td>\n",
       "      <td>180.000000</td>\n",
       "      <td>8.800000</td>\n",
       "      <td>1.841066e+06</td>\n",
       "    </tr>\n",
       "  </tbody>\n",
       "</table>\n",
       "</div>"
      ],
      "text/plain": [
       "        Unnamed: 0           id         year  runtime_minutes  averagerating  \\\n",
       "count  1459.000000  1459.000000  1459.000000      1459.000000    1459.000000   \n",
       "mean    764.222755    51.002056  2013.849897       107.643592       6.279918   \n",
       "std     445.325159    28.650357     2.568423        17.905381       1.065683   \n",
       "min       0.000000     1.000000  2010.000000         5.000000       1.600000   \n",
       "25%     379.500000    26.000000  2012.000000        95.000000       5.700000   \n",
       "50%     759.000000    51.000000  2014.000000       105.000000       6.400000   \n",
       "75%    1148.500000    76.000000  2016.000000       118.000000       7.000000   \n",
       "max    1546.000000   100.000000  2019.000000       180.000000       8.800000   \n",
       "\n",
       "           numvotes  \n",
       "count  1.459000e+03  \n",
       "mean   1.178483e+05  \n",
       "std    1.652269e+05  \n",
       "min    5.000000e+00  \n",
       "25%    1.604650e+04  \n",
       "50%    6.051000e+04  \n",
       "75%    1.450510e+05  \n",
       "max    1.841066e+06  "
      ]
     },
     "execution_count": 5,
     "metadata": {},
     "output_type": "execute_result"
    }
   ],
   "source": [
    "df.describe()"
   ]
  },
  {
   "cell_type": "code",
   "execution_count": 9,
   "metadata": {},
   "outputs": [
    {
     "data": {
      "image/png": "[encoded data removed]",
      "text/plain": [
       "<Figure size 432x288 with 1 Axes>"
      ]
     },
     "metadata": {
      "needs_background": "light"
     },
     "output_type": "display_data"
    }
   ],
   "source": [
    "df['runtime_minutes'].plot(kind='hist');"
   ]
  },
  {
   "cell_type": "code",
   "execution_count": 10,
   "metadata": {},
   "outputs": [
    {
     "data": {
      "image/png": "[encoded data removed]",
      "text/plain": [
       "<Figure size 432x288 with 1 Axes>"
      ]
     },
     "metadata": {
      "needs_background": "light"
     },
     "output_type": "display_data"
    }
   ],
   "source": [
    "df['averagerating'].plot(kind='hist');"
   ]
  },
  {
   "cell_type": "code",
   "execution_count": 20,
   "metadata": {},
   "outputs": [
    {
     "data": {
      "image/png": "[encoded data removed]",
      "text/plain": [
       "<Figure size 432x288 with 1 Axes>"
      ]
     },
     "metadata": {
      "needs_background": "light"
     },
     "output_type": "display_data"
    }
   ],
   "source": [
    "df['numvotes'].plot(kind='hist',bins=1000)\n",
    "plt.xlim(-10000,20000);"
   ]
  },
  {
   "cell_type": "code",
   "execution_count": 35,
   "metadata": {},
   "outputs": [
    {
     "data": {
      "image/png": "[encoded data removed]",
      "text/plain": [
       "<Figure size 432x288 with 1 Axes>"
      ]
     },
     "metadata": {
      "needs_background": "light"
     },
     "output_type": "display_data"
    }
   ],
   "source": [
    "df['numvotes'].plot(kind='box');"
   ]
  },
  {
   "cell_type": "code",
   "execution_count": 21,
   "metadata": {},
   "outputs": [],
   "source": [
    "df['worldwide_gross'] = df['worldwide_gross'].str[1:]\n",
    "\n",
    "df['worldwide_gross'] = df['worldwide_gross'].str.replace(',','')\n",
    "\n",
    "df['worldwide_gross'] = df['worldwide_gross'].astype(int)\n",
    "\n",
    "df['domestic_gross'] = df['domestic_gross'].str[1:]\n",
    "\n",
    "df['domestic_gross'] = df['domestic_gross'].str.replace(',','')\n",
    "\n",
    "df['domestic_gross'] = df['domestic_gross'].astype(int)\n",
    "\n",
    "df['production_budget'] = df['production_budget'].str[1:]\n",
    "\n",
    "df['production_budget'] = df['production_budget'].str.replace(',','')\n",
    "\n",
    "df['production_budget'] = df['production_budget'].astype(int)\n",
    "\n",
    "df['profit'] = df['worldwide_gross'] - df['production_budget']\n",
    "\n",
    "df['ROI'] = df['profit'] / df['production_budget'] * 100"
   ]
  },
  {
   "cell_type": "code",
   "execution_count": 22,
   "metadata": {},
   "outputs": [
    {
     "data": {
      "text/html": [
       "<div>\n",
       "<style scoped>\n",
       "    .dataframe tbody tr th:only-of-type {\n",
       "        vertical-align: middle;\n",
       "    }\n",
       "\n",
       "    .dataframe tbody tr th {\n",
       "        vertical-align: top;\n",
       "    }\n",
       "\n",
       "    .dataframe thead th {\n",
       "        text-align: right;\n",
       "    }\n",
       "</style>\n",
       "<table border=\"1\" class=\"dataframe\">\n",
       "  <thead>\n",
       "    <tr style=\"text-align: right;\">\n",
       "      <th></th>\n",
       "      <th>Unnamed: 0</th>\n",
       "      <th>id</th>\n",
       "      <th>release_date</th>\n",
       "      <th>movie</th>\n",
       "      <th>production_budget</th>\n",
       "      <th>domestic_gross</th>\n",
       "      <th>worldwide_gross</th>\n",
       "      <th>year</th>\n",
       "      <th>movie_id</th>\n",
       "      <th>original_title</th>\n",
       "      <th>runtime_minutes</th>\n",
       "      <th>genres</th>\n",
       "      <th>averagerating</th>\n",
       "      <th>numvotes</th>\n",
       "      <th>profit</th>\n",
       "      <th>ROI</th>\n",
       "    </tr>\n",
       "  </thead>\n",
       "  <tbody>\n",
       "    <tr>\n",
       "      <th>0</th>\n",
       "      <td>0</td>\n",
       "      <td>2</td>\n",
       "      <td>May 20, 2011</td>\n",
       "      <td>Pirates of the Caribbean: On Stranger Tides</td>\n",
       "      <td>410600000</td>\n",
       "      <td>241063875</td>\n",
       "      <td>1045663875</td>\n",
       "      <td>2011</td>\n",
       "      <td>tt1298650</td>\n",
       "      <td>Pirates of the Caribbean: On Stranger Tides</td>\n",
       "      <td>136.0</td>\n",
       "      <td>Action,Adventure,Fantasy</td>\n",
       "      <td>6.6</td>\n",
       "      <td>447624.0</td>\n",
       "      <td>635063875</td>\n",
       "      <td>154.667286</td>\n",
       "    </tr>\n",
       "    <tr>\n",
       "      <th>1</th>\n",
       "      <td>1</td>\n",
       "      <td>3</td>\n",
       "      <td>Jun 7, 2019</td>\n",
       "      <td>Dark Phoenix</td>\n",
       "      <td>350000000</td>\n",
       "      <td>42762350</td>\n",
       "      <td>149762350</td>\n",
       "      <td>2019</td>\n",
       "      <td>tt6565702</td>\n",
       "      <td>Dark Phoenix</td>\n",
       "      <td>113.0</td>\n",
       "      <td>Action,Adventure,Sci-Fi</td>\n",
       "      <td>6.0</td>\n",
       "      <td>24451.0</td>\n",
       "      <td>-200237650</td>\n",
       "      <td>-57.210757</td>\n",
       "    </tr>\n",
       "    <tr>\n",
       "      <th>2</th>\n",
       "      <td>2</td>\n",
       "      <td>4</td>\n",
       "      <td>May 1, 2015</td>\n",
       "      <td>Avengers: Age of Ultron</td>\n",
       "      <td>330600000</td>\n",
       "      <td>459005868</td>\n",
       "      <td>1403013963</td>\n",
       "      <td>2015</td>\n",
       "      <td>tt2395427</td>\n",
       "      <td>Avengers: Age of Ultron</td>\n",
       "      <td>141.0</td>\n",
       "      <td>Action,Adventure,Sci-Fi</td>\n",
       "      <td>7.3</td>\n",
       "      <td>665594.0</td>\n",
       "      <td>1072413963</td>\n",
       "      <td>324.384139</td>\n",
       "    </tr>\n",
       "    <tr>\n",
       "      <th>3</th>\n",
       "      <td>3</td>\n",
       "      <td>7</td>\n",
       "      <td>Apr 27, 2018</td>\n",
       "      <td>Avengers: Infinity War</td>\n",
       "      <td>300000000</td>\n",
       "      <td>678815482</td>\n",
       "      <td>2048134200</td>\n",
       "      <td>2018</td>\n",
       "      <td>tt4154756</td>\n",
       "      <td>Avengers: Infinity War</td>\n",
       "      <td>149.0</td>\n",
       "      <td>Action,Adventure,Sci-Fi</td>\n",
       "      <td>8.5</td>\n",
       "      <td>670926.0</td>\n",
       "      <td>1748134200</td>\n",
       "      <td>582.711400</td>\n",
       "    </tr>\n",
       "    <tr>\n",
       "      <th>4</th>\n",
       "      <td>4</td>\n",
       "      <td>9</td>\n",
       "      <td>Nov 17, 2017</td>\n",
       "      <td>Justice League</td>\n",
       "      <td>300000000</td>\n",
       "      <td>229024295</td>\n",
       "      <td>655945209</td>\n",
       "      <td>2017</td>\n",
       "      <td>tt0974015</td>\n",
       "      <td>Justice League</td>\n",
       "      <td>120.0</td>\n",
       "      <td>Action,Adventure,Fantasy</td>\n",
       "      <td>6.5</td>\n",
       "      <td>329135.0</td>\n",
       "      <td>355945209</td>\n",
       "      <td>118.648403</td>\n",
       "    </tr>\n",
       "  </tbody>\n",
       "</table>\n",
       "</div>"
      ],
      "text/plain": [
       "   Unnamed: 0  id  release_date                                        movie  \\\n",
       "0           0   2  May 20, 2011  Pirates of the Caribbean: On Stranger Tides   \n",
       "1           1   3   Jun 7, 2019                                 Dark Phoenix   \n",
       "2           2   4   May 1, 2015                      Avengers: Age of Ultron   \n",
       "3           3   7  Apr 27, 2018                       Avengers: Infinity War   \n",
       "4           4   9  Nov 17, 2017                               Justice League   \n",
       "\n",
       "   production_budget  domestic_gross  worldwide_gross  year   movie_id  \\\n",
       "0          410600000       241063875       1045663875  2011  tt1298650   \n",
       "1          350000000        42762350        149762350  2019  tt6565702   \n",
       "2          330600000       459005868       1403013963  2015  tt2395427   \n",
       "3          300000000       678815482       2048134200  2018  tt4154756   \n",
       "4          300000000       229024295        655945209  2017  tt0974015   \n",
       "\n",
       "                                original_title  runtime_minutes  \\\n",
       "0  Pirates of the Caribbean: On Stranger Tides            136.0   \n",
       "1                                 Dark Phoenix            113.0   \n",
       "2                      Avengers: Age of Ultron            141.0   \n",
       "3                       Avengers: Infinity War            149.0   \n",
       "4                               Justice League            120.0   \n",
       "\n",
       "                     genres  averagerating  numvotes      profit         ROI  \n",
       "0  Action,Adventure,Fantasy            6.6  447624.0   635063875  154.667286  \n",
       "1   Action,Adventure,Sci-Fi            6.0   24451.0  -200237650  -57.210757  \n",
       "2   Action,Adventure,Sci-Fi            7.3  665594.0  1072413963  324.384139  \n",
       "3   Action,Adventure,Sci-Fi            8.5  670926.0  1748134200  582.711400  \n",
       "4  Action,Adventure,Fantasy            6.5  329135.0   355945209  118.648403  "
      ]
     },
     "execution_count": 22,
     "metadata": {},
     "output_type": "execute_result"
    }
   ],
   "source": [
    "df.head()"
   ]
  },
  {
   "cell_type": "code",
   "execution_count": 23,
   "metadata": {},
   "outputs": [
    {
     "data": {
      "text/html": [
       "<div>\n",
       "<style scoped>\n",
       "    .dataframe tbody tr th:only-of-type {\n",
       "        vertical-align: middle;\n",
       "    }\n",
       "\n",
       "    .dataframe tbody tr th {\n",
       "        vertical-align: top;\n",
       "    }\n",
       "\n",
       "    .dataframe thead th {\n",
       "        text-align: right;\n",
       "    }\n",
       "</style>\n",
       "<table border=\"1\" class=\"dataframe\">\n",
       "  <thead>\n",
       "    <tr style=\"text-align: right;\">\n",
       "      <th></th>\n",
       "      <th>Unnamed: 0</th>\n",
       "      <th>id</th>\n",
       "      <th>production_budget</th>\n",
       "      <th>domestic_gross</th>\n",
       "      <th>worldwide_gross</th>\n",
       "      <th>year</th>\n",
       "      <th>runtime_minutes</th>\n",
       "      <th>averagerating</th>\n",
       "      <th>numvotes</th>\n",
       "      <th>profit</th>\n",
       "      <th>ROI</th>\n",
       "    </tr>\n",
       "  </thead>\n",
       "  <tbody>\n",
       "    <tr>\n",
       "      <th>count</th>\n",
       "      <td>1459.000000</td>\n",
       "      <td>1459.000000</td>\n",
       "      <td>1.459000e+03</td>\n",
       "      <td>1.459000e+03</td>\n",
       "      <td>1.459000e+03</td>\n",
       "      <td>1459.000000</td>\n",
       "      <td>1459.000000</td>\n",
       "      <td>1459.000000</td>\n",
       "      <td>1.459000e+03</td>\n",
       "      <td>1.459000e+03</td>\n",
       "      <td>1459.000000</td>\n",
       "    </tr>\n",
       "    <tr>\n",
       "      <th>mean</th>\n",
       "      <td>764.222755</td>\n",
       "      <td>51.002056</td>\n",
       "      <td>4.514845e+07</td>\n",
       "      <td>5.722748e+07</td>\n",
       "      <td>1.434019e+08</td>\n",
       "      <td>2013.849897</td>\n",
       "      <td>107.643592</td>\n",
       "      <td>6.279918</td>\n",
       "      <td>1.178483e+05</td>\n",
       "      <td>9.825348e+07</td>\n",
       "      <td>270.845782</td>\n",
       "    </tr>\n",
       "    <tr>\n",
       "      <th>std</th>\n",
       "      <td>445.325159</td>\n",
       "      <td>28.650357</td>\n",
       "      <td>5.645823e+07</td>\n",
       "      <td>8.533742e+07</td>\n",
       "      <td>2.353639e+08</td>\n",
       "      <td>2.568423</td>\n",
       "      <td>17.905381</td>\n",
       "      <td>1.065683</td>\n",
       "      <td>1.652269e+05</td>\n",
       "      <td>1.941656e+08</td>\n",
       "      <td>1217.930455</td>\n",
       "    </tr>\n",
       "    <tr>\n",
       "      <th>min</th>\n",
       "      <td>0.000000</td>\n",
       "      <td>1.000000</td>\n",
       "      <td>1.500000e+04</td>\n",
       "      <td>0.000000e+00</td>\n",
       "      <td>0.000000e+00</td>\n",
       "      <td>2010.000000</td>\n",
       "      <td>5.000000</td>\n",
       "      <td>1.600000</td>\n",
       "      <td>5.000000e+00</td>\n",
       "      <td>-2.002376e+08</td>\n",
       "      <td>-100.000000</td>\n",
       "    </tr>\n",
       "    <tr>\n",
       "      <th>25%</th>\n",
       "      <td>379.500000</td>\n",
       "      <td>26.000000</td>\n",
       "      <td>8.000000e+06</td>\n",
       "      <td>3.407679e+06</td>\n",
       "      <td>8.584449e+06</td>\n",
       "      <td>2012.000000</td>\n",
       "      <td>95.000000</td>\n",
       "      <td>5.700000</td>\n",
       "      <td>1.604650e+04</td>\n",
       "      <td>-6.024910e+05</td>\n",
       "      <td>-24.934980</td>\n",
       "    </tr>\n",
       "    <tr>\n",
       "      <th>50%</th>\n",
       "      <td>759.000000</td>\n",
       "      <td>51.000000</td>\n",
       "      <td>2.400000e+07</td>\n",
       "      <td>2.884224e+07</td>\n",
       "      <td>5.410422e+07</td>\n",
       "      <td>2014.000000</td>\n",
       "      <td>105.000000</td>\n",
       "      <td>6.400000</td>\n",
       "      <td>6.051000e+04</td>\n",
       "      <td>2.415403e+07</td>\n",
       "      <td>114.289910</td>\n",
       "    </tr>\n",
       "    <tr>\n",
       "      <th>75%</th>\n",
       "      <td>1148.500000</td>\n",
       "      <td>76.000000</td>\n",
       "      <td>5.775000e+07</td>\n",
       "      <td>6.933391e+07</td>\n",
       "      <td>1.625140e+08</td>\n",
       "      <td>2016.000000</td>\n",
       "      <td>118.000000</td>\n",
       "      <td>7.000000</td>\n",
       "      <td>1.450510e+05</td>\n",
       "      <td>1.086465e+08</td>\n",
       "      <td>301.708344</td>\n",
       "    </tr>\n",
       "    <tr>\n",
       "      <th>max</th>\n",
       "      <td>1546.000000</td>\n",
       "      <td>100.000000</td>\n",
       "      <td>4.106000e+08</td>\n",
       "      <td>7.000596e+08</td>\n",
       "      <td>2.048134e+09</td>\n",
       "      <td>2019.000000</td>\n",
       "      <td>180.000000</td>\n",
       "      <td>8.800000</td>\n",
       "      <td>1.841066e+06</td>\n",
       "      <td>1.748134e+09</td>\n",
       "      <td>41556.474000</td>\n",
       "    </tr>\n",
       "  </tbody>\n",
       "</table>\n",
       "</div>"
      ],
      "text/plain": [
       "        Unnamed: 0           id  production_budget  domestic_gross  \\\n",
       "count  1459.000000  1459.000000       1.459000e+03    1.459000e+03   \n",
       "mean    764.222755    51.002056       4.514845e+07    5.722748e+07   \n",
       "std     445.325159    28.650357       5.645823e+07    8.533742e+07   \n",
       "min       0.000000     1.000000       1.500000e+04    0.000000e+00   \n",
       "25%     379.500000    26.000000       8.000000e+06    3.407679e+06   \n",
       "50%     759.000000    51.000000       2.400000e+07    2.884224e+07   \n",
       "75%    1148.500000    76.000000       5.775000e+07    6.933391e+07   \n",
       "max    1546.000000   100.000000       4.106000e+08    7.000596e+08   \n",
       "\n",
       "       worldwide_gross         year  runtime_minutes  averagerating  \\\n",
       "count     1.459000e+03  1459.000000      1459.000000    1459.000000   \n",
       "mean      1.434019e+08  2013.849897       107.643592       6.279918   \n",
       "std       2.353639e+08     2.568423        17.905381       1.065683   \n",
       "min       0.000000e+00  2010.000000         5.000000       1.600000   \n",
       "25%       8.584449e+06  2012.000000        95.000000       5.700000   \n",
       "50%       5.410422e+07  2014.000000       105.000000       6.400000   \n",
       "75%       1.625140e+08  2016.000000       118.000000       7.000000   \n",
       "max       2.048134e+09  2019.000000       180.000000       8.800000   \n",
       "\n",
       "           numvotes        profit           ROI  \n",
       "count  1.459000e+03  1.459000e+03   1459.000000  \n",
       "mean   1.178483e+05  9.825348e+07    270.845782  \n",
       "std    1.652269e+05  1.941656e+08   1217.930455  \n",
       "min    5.000000e+00 -2.002376e+08   -100.000000  \n",
       "25%    1.604650e+04 -6.024910e+05    -24.934980  \n",
       "50%    6.051000e+04  2.415403e+07    114.289910  \n",
       "75%    1.450510e+05  1.086465e+08    301.708344  \n",
       "max    1.841066e+06  1.748134e+09  41556.474000  "
      ]
     },
     "execution_count": 23,
     "metadata": {},
     "output_type": "execute_result"
    }
   ],
   "source": [
    "df.describe()"
   ]
  },
  {
   "cell_type": "code",
   "execution_count": 31,
   "metadata": {},
   "outputs": [
    {
     "data": {
      "image/png": "[encoded data removed]",
      "text/plain": [
       "<Figure size 432x288 with 1 Axes>"
      ]
     },
     "metadata": {
      "needs_background": "light"
     },
     "output_type": "display_data"
    }
   ],
   "source": [
    "df['worldwide_gross'].plot(kind='box');"
   ]
  },
  {
   "cell_type": "code",
   "execution_count": 32,
   "metadata": {},
   "outputs": [
    {
     "data": {
      "image/png": "[encoded data removed]",
      "text/plain": [
       "<Figure size 432x288 with 1 Axes>"
      ]
     },
     "metadata": {
      "needs_background": "light"
     },
     "output_type": "display_data"
    }
   ],
   "source": [
    "df['production_budget'].plot(kind='box');"
   ]
  },
  {
   "cell_type": "code",
   "execution_count": 33,
   "metadata": {},
   "outputs": [],
   "source": [
    "df['dom_revshare'] = df['domestic_gross'] / df['worldwide_gross'] * 100"
   ]
  },
  {
   "cell_type": "code",
   "execution_count": 34,
   "metadata": {},
   "outputs": [
    {
     "data": {
      "text/plain": [
       "count    1357.000000\n",
       "mean       51.051686\n",
       "std        27.328780\n",
       "min         0.000000\n",
       "25%        32.153920\n",
       "50%        48.718002\n",
       "75%        69.959945\n",
       "max       100.000000\n",
       "Name: dom_revshare, dtype: float64"
      ]
     },
     "execution_count": 34,
     "metadata": {},
     "output_type": "execute_result"
    }
   ],
   "source": [
    "df['dom_revshare'].describe()"
   ]
  },
  {
   "cell_type": "code",
   "execution_count": 38,
   "metadata": {},
   "outputs": [
    {
     "data": {
      "image/png": "[encoded data removed]",
      "text/plain": [
       "<Figure size 432x288 with 1 Axes>"
      ]
     },
     "metadata": {
      "needs_background": "light"
     },
     "output_type": "display_data"
    }
   ],
   "source": [
    "df['dom_revshare'].plot(kind='hist');"
   ]
  },
  {
   "cell_type": "code",
   "execution_count": 39,
   "metadata": {},
   "outputs": [
    {
     "data": {
      "image/png": "[encoded data removed]",
      "text/plain": [
       "<Figure size 432x288 with 1 Axes>"
      ]
     },
     "metadata": {
      "needs_background": "light"
     },
     "output_type": "display_data"
    }
   ],
   "source": [
    "df['domestic_gross'].plot(kind='box');"
   ]
  },
  {
   "cell_type": "code",
   "execution_count": 44,
   "metadata": {},
   "outputs": [
    {
     "data": {
      "text/plain": [
       "284"
      ]
     },
     "execution_count": 44,
     "metadata": {},
     "output_type": "execute_result"
    }
   ],
   "source": [
    "df['numvotes'].loc[df['numvotes']<10000].count()"
   ]
  },
  {
   "cell_type": "code",
   "execution_count": 45,
   "metadata": {},
   "outputs": [
    {
     "data": {
      "text/plain": [
       "103"
      ]
     },
     "execution_count": 45,
     "metadata": {},
     "output_type": "execute_result"
    }
   ],
   "source": [
    "df['numvotes'].loc[df['numvotes']<1000].count()"
   ]
  },
  {
   "cell_type": "code",
   "execution_count": 46,
   "metadata": {},
   "outputs": [
    {
     "data": {
      "text/plain": [
       "26"
      ]
     },
     "execution_count": 46,
     "metadata": {},
     "output_type": "execute_result"
    }
   ],
   "source": [
    "df['numvotes'].loc[df['numvotes']<100].count()"
   ]
  },
  {
   "cell_type": "code",
   "execution_count": 48,
   "metadata": {},
   "outputs": [
    {
     "data": {
      "text/plain": [
       "399"
      ]
     },
     "execution_count": 48,
     "metadata": {},
     "output_type": "execute_result"
    }
   ],
   "source": [
    "df['production_budget'].loc[df['production_budget']<10000000].count()"
   ]
  },
  {
   "cell_type": "code",
   "execution_count": 50,
   "metadata": {},
   "outputs": [
    {
     "data": {
      "text/plain": [
       "378"
      ]
     },
     "execution_count": 50,
     "metadata": {},
     "output_type": "execute_result"
    }
   ],
   "source": [
    "df['worldwide_gross'].loc[df['worldwide_gross']<10000000].count()"
   ]
  },
  {
   "cell_type": "code",
   "execution_count": 53,
   "metadata": {},
   "outputs": [
    {
     "data": {
      "text/plain": [
       "180"
      ]
     },
     "execution_count": 53,
     "metadata": {},
     "output_type": "execute_result"
    }
   ],
   "source": [
    "df['runtime_minutes'].loc[df['runtime_minutes']<90].count()"
   ]
  },
  {
   "cell_type": "code",
   "execution_count": 54,
   "metadata": {},
   "outputs": [
    {
     "data": {
      "text/plain": [
       "11"
      ]
     },
     "execution_count": 54,
     "metadata": {},
     "output_type": "execute_result"
    }
   ],
   "source": [
    "df['runtime_minutes'].loc[df['runtime_minutes']<75].count()"
   ]
  },
  {
   "cell_type": "code",
   "execution_count": 55,
   "metadata": {},
   "outputs": [
    {
     "data": {
      "image/png": "[encoded data removed]",
      "text/plain": [
       "<Figure size 432x288 with 1 Axes>"
      ]
     },
     "metadata": {
      "needs_background": "light"
     },
     "output_type": "display_data"
    }
   ],
   "source": [
    "df['profit'].plot(kind='box');"
   ]
  },
  {
   "cell_type": "code",
   "execution_count": 56,
   "metadata": {},
   "outputs": [
    {
     "data": {
      "image/png": "[encoded data removed]",
      "text/plain": [
       "<Figure size 432x288 with 1 Axes>"
      ]
     },
     "metadata": {
      "needs_background": "light"
     },
     "output_type": "display_data"
    }
   ],
   "source": [
    "df['ROI'].plot(kind='box');"
   ]
  },
  {
   "cell_type": "code",
   "execution_count": 57,
   "metadata": {},
   "outputs": [
    {
     "data": {
      "text/plain": [
       "count    1.459000e+03\n",
       "mean     9.825348e+07\n",
       "std      1.941656e+08\n",
       "min     -2.002376e+08\n",
       "25%     -6.024910e+05\n",
       "50%      2.415403e+07\n",
       "75%      1.086465e+08\n",
       "max      1.748134e+09\n",
       "Name: profit, dtype: float64"
      ]
     },
     "execution_count": 57,
     "metadata": {},
     "output_type": "execute_result"
    }
   ],
   "source": [
    "df['profit'].describe()"
   ]
  },
  {
   "cell_type": "code",
   "execution_count": 58,
   "metadata": {},
   "outputs": [
    {
     "data": {
      "text/plain": [
       "count     1459.000000\n",
       "mean       270.845782\n",
       "std       1217.930455\n",
       "min       -100.000000\n",
       "25%        -24.934980\n",
       "50%        114.289910\n",
       "75%        301.708344\n",
       "max      41556.474000\n",
       "Name: ROI, dtype: float64"
      ]
     },
     "execution_count": 58,
     "metadata": {},
     "output_type": "execute_result"
    }
   ],
   "source": [
    "df['ROI'].describe()"
   ]
  },
  {
   "cell_type": "code",
   "execution_count": null,
   "metadata": {},
   "outputs": [],
   "source": []
  }
 ],
 "metadata": {
  "kernelspec": {
   "display_name": "Python (learn-env)",
   "language": "python",
   "name": "learn-env"
  },
  "language_info": {
   "codemirror_mode": {
    "name": "ipython",
    "version": 3
   },
   "file_extension": ".py",
   "mimetype": "text/x-python",
   "name": "python",
   "nbconvert_exporter": "python",
   "pygments_lexer": "ipython3",
   "version": "3.8.5"
  }
 },
 "nbformat": 4,
 "nbformat_minor": 4
}
