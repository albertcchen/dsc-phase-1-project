{
 "cells": [
  {
   "cell_type": "markdown",
   "metadata": {},
   "source": [
    "## Final Project Submission\n",
    "\n",
    "Please fill out:\n",
    "* Student name: \n",
    "* Student pace: self paced / part time / full time\n",
    "* Scheduled project review date/time: \n",
    "* Instructor name: \n",
    "* Blog post URL:\n"
   ]
  },
  {
   "cell_type": "code",
   "execution_count": null,
   "metadata": {},
   "outputs": [],
   "source": [
    "# Your code here - remember to use markdown cells for comments as well!"
   ]
  },
  {
   "cell_type": "code",
   "execution_count": 6,
   "metadata": {},
   "outputs": [],
   "source": [
    "import pandas as pd\n",
    "import gzip\n",
    "import seaborn as sns\n",
    "import matplotlib.pyplot as plt\n"
   ]
  },
  {
   "cell_type": "code",
   "execution_count": null,
   "metadata": {},
   "outputs": [],
   "source": [
    "from IPython.display import Image\n",
    "Image(filename='movie_data_erd.jpeg') "
   ]
  },
  {
   "cell_type": "code",
   "execution_count": null,
   "metadata": {},
   "outputs": [],
   "source": [
    "import zipfile\n",
    "import sqlite3\n",
    "\n",
    "with zipfile.ZipFile('zippedData/im.db.zip', 'r') as zip_ref:\n",
    "    zip_ref.extractall('zippedData/')\n",
    "\n",
    "conn = sqlite3.connect('zippedData/im.db')\n",
    "cur = conn.cursor()\n",
    "pd.read_sql_query(\"\"\"\n",
    "\n",
    "SELECT * \n",
    "FROM movie_basics;\n",
    "\n",
    "\n",
    "\"\"\", conn)\n"
   ]
  },
  {
   "cell_type": "code",
   "execution_count": null,
   "metadata": {},
   "outputs": [],
   "source": [
    "pd.read_sql_query(\"\"\"\n",
    "\n",
    "SELECT * \n",
    "FROM movie_ratings;\n",
    "\n",
    "\n",
    "\"\"\", conn)"
   ]
  },
  {
   "cell_type": "code",
   "execution_count": null,
   "metadata": {},
   "outputs": [],
   "source": [
    "pd.read_sql_query(\"\"\"\n",
    "\n",
    "SELECT * \n",
    "FROM sqlite_master \n",
    "WHERE type='table';\n",
    "\n",
    "\n",
    "\n",
    "\"\"\", conn)"
   ]
  },
  {
   "cell_type": "code",
   "execution_count": null,
   "metadata": {},
   "outputs": [],
   "source": [
    "pd.set_option(\"display.max_rows\", None)"
   ]
  },
  {
   "cell_type": "code",
   "execution_count": null,
   "metadata": {},
   "outputs": [],
   "source": [
    "pd.reset_option(\"display.max_rows\")"
   ]
  },
  {
   "cell_type": "code",
   "execution_count": null,
   "metadata": {
    "scrolled": true
   },
   "outputs": [],
   "source": [
    "pd.read_sql_query(\"\"\"\n",
    "\n",
    "SELECT primary_title, runtime_minutes, genres, averagerating\n",
    "FROM movie_basics\n",
    "JOIN movie_ratings\n",
    "    USING(movie_id)\n",
    "    WHERE averagerating > 8 AND runtime_minutes <= 130;\n",
    "\n",
    "\"\"\", conn)"
   ]
  },
  {
   "cell_type": "code",
   "execution_count": null,
   "metadata": {},
   "outputs": [],
   "source": [
    "pd.read_sql_query(\"\"\"\n",
    "\n",
    "SELECT runtime_minutes, COUNT(*) as count\n",
    "FROM (\n",
    "    SELECT primary_title, runtime_minutes, genres, averagerating\n",
    "    FROM movie_basics\n",
    "    JOIN movie_ratings\n",
    "        USING(movie_id)\n",
    "        WHERE runtime_minutes IS NOT NULL AND averagerating IS NOT NULL\n",
    "        ORDER BY averagerating DESC\n",
    ")\n",
    "GROUP BY runtime_minutes\n",
    "ORDER BY count DESC;\n",
    "\n",
    "\"\"\", conn)"
   ]
  },
  {
   "cell_type": "code",
   "execution_count": null,
   "metadata": {},
   "outputs": [],
   "source": [
    "df = pd.read_sql_query(\"\"\"\n",
    "\n",
    "SELECT runtime_minutes, averagerating\n",
    "FROM movie_basics\n",
    "JOIN movie_ratings\n",
    "    USING(movie_id)\n",
    "    WHERE runtime_minutes IS NOT NULL AND averagerating IS NOT NULL AND averagerating >= 9 AND runtime_minutes BETWEEN 80 AND 130\n",
    "    ORDER BY runtime_minutes DESC, averagerating DESC\n",
    "    limit 100;\n",
    "\n",
    "\"\"\", conn)\n",
    "\n",
    "df"
   ]
  },
  {
   "cell_type": "code",
   "execution_count": null,
   "metadata": {},
   "outputs": [],
   "source": [
    "sns.barplot(x='runtime_minutes', y='averagerating', data=df)\n",
    "plt.title('Run Time vs. Average Ratings')\n",
    "plt.show()\n",
    "\n"
   ]
  },
  {
   "cell_type": "code",
   "execution_count": null,
   "metadata": {},
   "outputs": [],
   "source": [
    "conn.close()"
   ]
  },
  {
   "cell_type": "markdown",
   "metadata": {},
   "source": [
    "Plot above is example, average runtime is 80-120 minutes for most successful films when looking through data. "
   ]
  },
  {
   "cell_type": "code",
   "execution_count": 7,
   "metadata": {},
   "outputs": [
    {
     "name": "stdout",
     "output_type": "stream",
     "text": [
      "<class 'pandas.core.frame.DataFrame'>\n",
      "RangeIndex: 1505 entries, 0 to 1504\n",
      "Data columns (total 20 columns):\n",
      " #   Column             Non-Null Count  Dtype  \n",
      "---  ------             --------------  -----  \n",
      " 0   Unnamed: 0         1505 non-null   int64  \n",
      " 1   movie_id           1505 non-null   object \n",
      " 2   primary_title      1505 non-null   object \n",
      " 3   original_title     1505 non-null   object \n",
      " 4   start_year         1505 non-null   int64  \n",
      " 5   runtime_minutes    1417 non-null   float64\n",
      " 6   genres             1485 non-null   object \n",
      " 7   averagerating      1350 non-null   float64\n",
      " 8   numvotes           1350 non-null   float64\n",
      " 9   title              1505 non-null   object \n",
      " 10  studio             1505 non-null   object \n",
      " 11  domestic_gross_x   1504 non-null   float64\n",
      " 12  foreign_gross      1320 non-null   object \n",
      " 13  year               1505 non-null   float64\n",
      " 14  id                 1505 non-null   float64\n",
      " 15  release_date       1505 non-null   object \n",
      " 16  movie              1505 non-null   object \n",
      " 17  production_budget  1505 non-null   object \n",
      " 18  domestic_gross_y   1505 non-null   object \n",
      " 19  worldwide_gross    1505 non-null   object \n",
      "dtypes: float64(6), int64(2), object(12)\n",
      "memory usage: 235.3+ KB\n"
     ]
    }
   ],
   "source": [
    "master = pd.read_csv('masterdatasetcleaned.csv')\n",
    "master.info()"
   ]
  },
  {
   "cell_type": "code",
   "execution_count": 3,
   "metadata": {},
   "outputs": [
    {
     "data": {
      "text/html": [
       "<div>\n",
       "<style scoped>\n",
       "    .dataframe tbody tr th:only-of-type {\n",
       "        vertical-align: middle;\n",
       "    }\n",
       "\n",
       "    .dataframe tbody tr th {\n",
       "        vertical-align: top;\n",
       "    }\n",
       "\n",
       "    .dataframe thead th {\n",
       "        text-align: right;\n",
       "    }\n",
       "</style>\n",
       "<table border=\"1\" class=\"dataframe\">\n",
       "  <thead>\n",
       "    <tr style=\"text-align: right;\">\n",
       "      <th></th>\n",
       "      <th>Unnamed: 0</th>\n",
       "      <th>movie_id</th>\n",
       "      <th>primary_title</th>\n",
       "      <th>original_title</th>\n",
       "      <th>start_year</th>\n",
       "      <th>runtime_minutes</th>\n",
       "      <th>genres</th>\n",
       "      <th>averagerating</th>\n",
       "      <th>numvotes</th>\n",
       "      <th>title</th>\n",
       "      <th>studio</th>\n",
       "      <th>domestic_gross_x</th>\n",
       "      <th>foreign_gross</th>\n",
       "      <th>year</th>\n",
       "      <th>id</th>\n",
       "      <th>release_date</th>\n",
       "      <th>movie</th>\n",
       "      <th>production_budget</th>\n",
       "      <th>domestic_gross_y</th>\n",
       "      <th>worldwide_gross</th>\n",
       "    </tr>\n",
       "  </thead>\n",
       "  <tbody>\n",
       "    <tr>\n",
       "      <th>0</th>\n",
       "      <td>54</td>\n",
       "      <td>tt0359950</td>\n",
       "      <td>The Secret Life of Walter Mitty</td>\n",
       "      <td>The Secret Life of Walter Mitty</td>\n",
       "      <td>2013</td>\n",
       "      <td>114.0</td>\n",
       "      <td>Adventure,Comedy,Drama</td>\n",
       "      <td>7.3</td>\n",
       "      <td>275300.0</td>\n",
       "      <td>The Secret Life of Walter Mitty</td>\n",
       "      <td>Fox</td>\n",
       "      <td>58200000.0</td>\n",
       "      <td>129900000</td>\n",
       "      <td>2013.0</td>\n",
       "      <td>37.0</td>\n",
       "      <td>Dec 25, 2013</td>\n",
       "      <td>The Secret Life of Walter Mitty</td>\n",
       "      <td>$91,000,000</td>\n",
       "      <td>$58,236,838</td>\n",
       "      <td>$187,861,183</td>\n",
       "    </tr>\n",
       "    <tr>\n",
       "      <th>1</th>\n",
       "      <td>58</td>\n",
       "      <td>tt0365907</td>\n",
       "      <td>A Walk Among the Tombstones</td>\n",
       "      <td>A Walk Among the Tombstones</td>\n",
       "      <td>2014</td>\n",
       "      <td>114.0</td>\n",
       "      <td>Action,Crime,Drama</td>\n",
       "      <td>6.5</td>\n",
       "      <td>105116.0</td>\n",
       "      <td>A Walk Among the Tombstones</td>\n",
       "      <td>Uni.</td>\n",
       "      <td>26300000.0</td>\n",
       "      <td>26900000</td>\n",
       "      <td>2014.0</td>\n",
       "      <td>67.0</td>\n",
       "      <td>Sep 19, 2014</td>\n",
       "      <td>A Walk Among the Tombstones</td>\n",
       "      <td>$28,000,000</td>\n",
       "      <td>$26,017,685</td>\n",
       "      <td>$62,108,587</td>\n",
       "    </tr>\n",
       "    <tr>\n",
       "      <th>2</th>\n",
       "      <td>60</td>\n",
       "      <td>tt0369610</td>\n",
       "      <td>Jurassic World</td>\n",
       "      <td>Jurassic World</td>\n",
       "      <td>2015</td>\n",
       "      <td>124.0</td>\n",
       "      <td>Action,Adventure,Sci-Fi</td>\n",
       "      <td>7.0</td>\n",
       "      <td>539338.0</td>\n",
       "      <td>Jurassic World</td>\n",
       "      <td>Uni.</td>\n",
       "      <td>652300000.0</td>\n",
       "      <td>1,019.4</td>\n",
       "      <td>2015.0</td>\n",
       "      <td>34.0</td>\n",
       "      <td>Jun 12, 2015</td>\n",
       "      <td>Jurassic World</td>\n",
       "      <td>$215,000,000</td>\n",
       "      <td>$652,270,625</td>\n",
       "      <td>$1,648,854,864</td>\n",
       "    </tr>\n",
       "    <tr>\n",
       "      <th>3</th>\n",
       "      <td>62</td>\n",
       "      <td>tt0376136</td>\n",
       "      <td>The Rum Diary</td>\n",
       "      <td>The Rum Diary</td>\n",
       "      <td>2011</td>\n",
       "      <td>119.0</td>\n",
       "      <td>Comedy,Drama</td>\n",
       "      <td>6.2</td>\n",
       "      <td>94787.0</td>\n",
       "      <td>The Rum Diary</td>\n",
       "      <td>FD</td>\n",
       "      <td>13100000.0</td>\n",
       "      <td>10800000</td>\n",
       "      <td>2011.0</td>\n",
       "      <td>16.0</td>\n",
       "      <td>Oct 28, 2011</td>\n",
       "      <td>The Rum Diary</td>\n",
       "      <td>$45,000,000</td>\n",
       "      <td>$13,109,815</td>\n",
       "      <td>$21,544,732</td>\n",
       "    </tr>\n",
       "    <tr>\n",
       "      <th>4</th>\n",
       "      <td>67</td>\n",
       "      <td>tt0383010</td>\n",
       "      <td>The Three Stooges</td>\n",
       "      <td>The Three Stooges</td>\n",
       "      <td>2012</td>\n",
       "      <td>92.0</td>\n",
       "      <td>Comedy,Family</td>\n",
       "      <td>5.1</td>\n",
       "      <td>28570.0</td>\n",
       "      <td>The Three Stooges</td>\n",
       "      <td>Fox</td>\n",
       "      <td>44300000.0</td>\n",
       "      <td>10500000</td>\n",
       "      <td>2012.0</td>\n",
       "      <td>4.0</td>\n",
       "      <td>Apr 13, 2012</td>\n",
       "      <td>The Three Stooges</td>\n",
       "      <td>$30,000,000</td>\n",
       "      <td>$44,338,224</td>\n",
       "      <td>$54,052,249</td>\n",
       "    </tr>\n",
       "  </tbody>\n",
       "</table>\n",
       "</div>"
      ],
      "text/plain": [
       "   Unnamed: 0   movie_id                    primary_title  \\\n",
       "0          54  tt0359950  The Secret Life of Walter Mitty   \n",
       "1          58  tt0365907      A Walk Among the Tombstones   \n",
       "2          60  tt0369610                   Jurassic World   \n",
       "3          62  tt0376136                    The Rum Diary   \n",
       "4          67  tt0383010                The Three Stooges   \n",
       "\n",
       "                    original_title  start_year  runtime_minutes  \\\n",
       "0  The Secret Life of Walter Mitty        2013            114.0   \n",
       "1      A Walk Among the Tombstones        2014            114.0   \n",
       "2                   Jurassic World        2015            124.0   \n",
       "3                    The Rum Diary        2011            119.0   \n",
       "4                The Three Stooges        2012             92.0   \n",
       "\n",
       "                    genres  averagerating  numvotes  \\\n",
       "0   Adventure,Comedy,Drama            7.3  275300.0   \n",
       "1       Action,Crime,Drama            6.5  105116.0   \n",
       "2  Action,Adventure,Sci-Fi            7.0  539338.0   \n",
       "3             Comedy,Drama            6.2   94787.0   \n",
       "4            Comedy,Family            5.1   28570.0   \n",
       "\n",
       "                             title studio  domestic_gross_x foreign_gross  \\\n",
       "0  The Secret Life of Walter Mitty    Fox        58200000.0     129900000   \n",
       "1      A Walk Among the Tombstones   Uni.        26300000.0      26900000   \n",
       "2                   Jurassic World   Uni.       652300000.0       1,019.4   \n",
       "3                    The Rum Diary     FD        13100000.0      10800000   \n",
       "4                The Three Stooges    Fox        44300000.0      10500000   \n",
       "\n",
       "     year    id  release_date                            movie  \\\n",
       "0  2013.0  37.0  Dec 25, 2013  The Secret Life of Walter Mitty   \n",
       "1  2014.0  67.0  Sep 19, 2014      A Walk Among the Tombstones   \n",
       "2  2015.0  34.0  Jun 12, 2015                   Jurassic World   \n",
       "3  2011.0  16.0  Oct 28, 2011                    The Rum Diary   \n",
       "4  2012.0   4.0  Apr 13, 2012                The Three Stooges   \n",
       "\n",
       "  production_budget domestic_gross_y worldwide_gross  \n",
       "0       $91,000,000      $58,236,838    $187,861,183  \n",
       "1       $28,000,000      $26,017,685     $62,108,587  \n",
       "2      $215,000,000     $652,270,625  $1,648,854,864  \n",
       "3       $45,000,000      $13,109,815     $21,544,732  \n",
       "4       $30,000,000      $44,338,224     $54,052,249  "
      ]
     },
     "execution_count": 3,
     "metadata": {},
     "output_type": "execute_result"
    }
   ],
   "source": [
    "master.head()"
   ]
  },
  {
   "cell_type": "code",
   "execution_count": 4,
   "metadata": {},
   "outputs": [
    {
     "data": {
      "image/png": "[encoded data removed]",
      "text/plain": [
       "<Figure size 432x288 with 1 Axes>"
      ]
     },
     "metadata": {
      "needs_background": "light"
     },
     "output_type": "display_data"
    }
   ],
   "source": [
    "sns.scatterplot(x='runtime_minutes', y='averagerating', data=master)\n",
    "plt.title('Runtime vs. Average Rating')\n",
    "plt.show()\n"
   ]
  },
  {
   "cell_type": "code",
   "execution_count": 5,
   "metadata": {
    "collapsed": true
   },
   "outputs": [
    {
     "data": {
      "text/plain": [
       "Drama                         114\n",
       "Adventure,Animation,Comedy     61\n",
       "Documentary                    59\n",
       "Comedy,Drama,Romance           57\n",
       "Comedy                         51\n",
       "                             ... \n",
       "Drama,History,Romance           1\n",
       "Comedy,Horror                   1\n",
       "Horror,Romance,Thriller         1\n",
       "Biography,Drama,Musical         1\n",
       "Adventure,Comedy,Sci-Fi         1\n",
       "Name: genres, Length: 228, dtype: int64"
      ]
     },
     "execution_count": 5,
     "metadata": {},
     "output_type": "execute_result"
    }
   ],
   "source": [
    "master['genres'].value_counts()"
   ]
  },
  {
   "cell_type": "code",
   "execution_count": 8,
   "metadata": {
    "collapsed": true
   },
   "outputs": [
    {
     "data": {
      "text/plain": [
       "Action         381\n",
       "Drama          304\n",
       "Comedy         268\n",
       "Adventure      141\n",
       "Biography      114\n",
       "Horror          83\n",
       "Documentary     75\n",
       "Crime           66\n",
       "Thriller        16\n",
       "Animation       11\n",
       "Fantasy          8\n",
       "Romance          5\n",
       "Mystery          5\n",
       "Family           4\n",
       "Sport            1\n",
       "Music            1\n",
       "Sci-Fi           1\n",
       "Western          1\n",
       "Name: genres, dtype: int64"
      ]
     },
     "execution_count": 8,
     "metadata": {},
     "output_type": "execute_result"
    }
   ],
   "source": [
    "#split genres by commas, gives better understanding of number of genres. \n",
    "\n",
    "master['genres'] = master['genres'].str.split(\",\", expand=True)\n",
    "master['genres'].value_counts()"
   ]
  },
  {
   "cell_type": "code",
   "execution_count": 9,
   "metadata": {
    "collapsed": true
   },
   "outputs": [
    {
     "data": {
      "text/plain": [
       "0         $187,861,183\n",
       "1          $62,108,587\n",
       "2       $1,648,854,864\n",
       "3          $21,544,732\n",
       "4          $54,052,249\n",
       "             ...      \n",
       "1500      $213,116,401\n",
       "1501       $11,173,718\n",
       "1502           $17,061\n",
       "1503      $106,030,660\n",
       "1504      $165,720,921\n",
       "Name: worldwide_gross, Length: 1505, dtype: object"
      ]
     },
     "execution_count": 9,
     "metadata": {},
     "output_type": "execute_result"
    }
   ],
   "source": [
    "master['worldwide_gross']"
   ]
  },
  {
   "cell_type": "code",
   "execution_count": 10,
   "metadata": {
    "collapsed": true
   },
   "outputs": [
    {
     "data": {
      "text/plain": [
       "0        187861183\n",
       "1         62108587\n",
       "2       1648854864\n",
       "3         21544732\n",
       "4         54052249\n",
       "           ...    \n",
       "1500     213116401\n",
       "1501      11173718\n",
       "1502         17061\n",
       "1503     106030660\n",
       "1504     165720921\n",
       "Name: worldwide_gross, Length: 1505, dtype: int64"
      ]
     },
     "execution_count": 10,
     "metadata": {},
     "output_type": "execute_result"
    }
   ],
   "source": [
    "master['worldwide_gross'] = master['worldwide_gross'].apply(lambda x: int(x[1:].replace(',','')))\n",
    "master['worldwide_gross']"
   ]
  },
  {
   "cell_type": "code",
   "execution_count": 11,
   "metadata": {},
   "outputs": [
    {
     "data": {
      "image/png": "[encoded data removed]",
      "text/plain": [
       "<Figure size 432x288 with 1 Axes>"
      ]
     },
     "metadata": {
      "needs_background": "light"
     },
     "output_type": "display_data"
    }
   ],
   "source": [
    "sns.boxplot(x='genres', y='worldwide_gross', data=master)\n",
    "plt.title('Worldwide Gross by Genre')\n",
    "plt.xlabel('Genres')\n",
    "plt.ylabel('Worldwide Gross')\n",
    "plt.xticks(rotation=90)\n",
    "plt.show()\n"
   ]
  },
  {
   "cell_type": "code",
   "execution_count": 45,
   "metadata": {},
   "outputs": [
    {
     "ename": "AttributeError",
     "evalue": "'Series' object has no attribute 'merge'",
     "output_type": "error",
     "traceback": [
      "\u001b[0;31m---------------------------------------------------------------------------\u001b[0m",
      "\u001b[0;31mAttributeError\u001b[0m                            Traceback (most recent call last)",
      "\u001b[0;32m<ipython-input-45-52207de2c15e>\u001b[0m in \u001b[0;36m<module>\u001b[0;34m\u001b[0m\n\u001b[0;32m----> 1\u001b[0;31m \u001b[0mmaster_studiovsgross\u001b[0m \u001b[0;34m=\u001b[0m \u001b[0mmaster\u001b[0m\u001b[0;34m[\u001b[0m\u001b[0;34m'studio'\u001b[0m\u001b[0;34m]\u001b[0m\u001b[0;34m.\u001b[0m\u001b[0mmerge\u001b[0m\u001b[0;34m(\u001b[0m\u001b[0mmaster\u001b[0m\u001b[0;34m[\u001b[0m\u001b[0;34m'worldwide_gross'\u001b[0m\u001b[0;34m]\u001b[0m\u001b[0;34m)\u001b[0m\u001b[0;34m\u001b[0m\u001b[0;34m\u001b[0m\u001b[0m\n\u001b[0m\u001b[1;32m      2\u001b[0m \u001b[0;34m\u001b[0m\u001b[0m\n\u001b[1;32m      3\u001b[0m \u001b[0;34m\u001b[0m\u001b[0m\n\u001b[1;32m      4\u001b[0m \u001b[0;34m\u001b[0m\u001b[0m\n",
      "\u001b[0;32m/opt/anaconda3/envs/learn-env/lib/python3.8/site-packages/pandas/core/generic.py\u001b[0m in \u001b[0;36m__getattr__\u001b[0;34m(self, name)\u001b[0m\n\u001b[1;32m   5137\u001b[0m             \u001b[0;32mif\u001b[0m \u001b[0mself\u001b[0m\u001b[0;34m.\u001b[0m\u001b[0m_info_axis\u001b[0m\u001b[0;34m.\u001b[0m\u001b[0m_can_hold_identifiers_and_holds_name\u001b[0m\u001b[0;34m(\u001b[0m\u001b[0mname\u001b[0m\u001b[0;34m)\u001b[0m\u001b[0;34m:\u001b[0m\u001b[0;34m\u001b[0m\u001b[0;34m\u001b[0m\u001b[0m\n\u001b[1;32m   5138\u001b[0m                 \u001b[0;32mreturn\u001b[0m \u001b[0mself\u001b[0m\u001b[0;34m[\u001b[0m\u001b[0mname\u001b[0m\u001b[0;34m]\u001b[0m\u001b[0;34m\u001b[0m\u001b[0;34m\u001b[0m\u001b[0m\n\u001b[0;32m-> 5139\u001b[0;31m             \u001b[0;32mreturn\u001b[0m \u001b[0mobject\u001b[0m\u001b[0;34m.\u001b[0m\u001b[0m__getattribute__\u001b[0m\u001b[0;34m(\u001b[0m\u001b[0mself\u001b[0m\u001b[0;34m,\u001b[0m \u001b[0mname\u001b[0m\u001b[0;34m)\u001b[0m\u001b[0;34m\u001b[0m\u001b[0;34m\u001b[0m\u001b[0m\n\u001b[0m\u001b[1;32m   5140\u001b[0m \u001b[0;34m\u001b[0m\u001b[0m\n\u001b[1;32m   5141\u001b[0m     \u001b[0;32mdef\u001b[0m \u001b[0m__setattr__\u001b[0m\u001b[0;34m(\u001b[0m\u001b[0mself\u001b[0m\u001b[0;34m,\u001b[0m \u001b[0mname\u001b[0m\u001b[0;34m:\u001b[0m \u001b[0mstr\u001b[0m\u001b[0;34m,\u001b[0m \u001b[0mvalue\u001b[0m\u001b[0;34m)\u001b[0m \u001b[0;34m->\u001b[0m \u001b[0;32mNone\u001b[0m\u001b[0;34m:\u001b[0m\u001b[0;34m\u001b[0m\u001b[0;34m\u001b[0m\u001b[0m\n",
      "\u001b[0;31mAttributeError\u001b[0m: 'Series' object has no attribute 'merge'"
     ]
    }
   ],
   "source": [
    "master_studiovsgross = master.loc(\n",
    "\n",
    "\n",
    "# Using apply() method to combine two columns of text\n",
    "master_studiovsgross = master[[\"studio\", \"worldwide_gross\"]].apply(\"-\".join, axis=1)\n",
    "print(master_studiovsgross)\n",
    "\n",
    "                                              "
   ]
  },
  {
   "cell_type": "code",
   "execution_count": 44,
   "metadata": {},
   "outputs": [
    {
     "data": {
      "text/plain": [
       "0       Fox$187,861,183\n",
       "1       Uni.$62,108,587\n",
       "2    Uni.$1,648,854,864\n",
       "3         FD$21,544,732\n",
       "4        Fox$54,052,249\n",
       "dtype: object"
      ]
     },
     "execution_count": 44,
     "metadata": {},
     "output_type": "execute_result"
    }
   ],
   "source": [
    "master_studiovsgross.head()"
   ]
  },
  {
   "cell_type": "code",
   "execution_count": 17,
   "metadata": {},
   "outputs": [
    {
     "data": {
      "text/plain": [
       "$4,495,262      10\n",
       "$1,200,000       8\n",
       "$854,235,992     8\n",
       "$101,134,059     8\n",
       "$106,030,660     7\n",
       "                ..\n",
       "$710,644,566     1\n",
       "$28,717,667      1\n",
       "$449,326,618     1\n",
       "$38,073,377      1\n",
       "$118,729,073     1\n",
       "Name: worldwide_gross, Length: 1135, dtype: int64"
      ]
     },
     "execution_count": 17,
     "metadata": {},
     "output_type": "execute_result"
    }
   ],
   "source": [
    "master['worldwide_gross'].value_counts()"
   ]
  },
  {
   "cell_type": "code",
   "execution_count": 38,
   "metadata": {},
   "outputs": [
    {
     "data": {
      "text/plain": [
       "['Uni.',\n",
       " 'Fox',\n",
       " 'WB',\n",
       " 'BV',\n",
       " 'Par.',\n",
       " 'Sony',\n",
       " 'LGF',\n",
       " 'FoxS',\n",
       " 'WB(NL)',\n",
       " 'Wein.',\n",
       " 'Focus',\n",
       " 'RAtt.',\n",
       " 'Rela.',\n",
       " 'SPC',\n",
       " 'ORF',\n",
       " 'LG/S',\n",
       " 'SGem',\n",
       " 'IFC',\n",
       " 'Sum.',\n",
       " 'A24']"
      ]
     },
     "execution_count": 38,
     "metadata": {},
     "output_type": "execute_result"
    }
   ],
   "source": [
    "master['studio'].value_counts()\n",
    "\n",
    "top20 = [('Uni.'),('Fox'),('WB'),('BV'),('Par.'),('Sony'),\n",
    "('LGF'),('FoxS'),('WB(NL)'),('Wein.'),('Focus'),('RAtt.'),\n",
    "('Rela.'),('SPC'),('ORF'),('LG/S'),('SGem'),('IFC'),\n",
    "('Sum.'),('A24')]\n",
    "\n",
    "\n",
    "top20"
   ]
  },
  {
   "cell_type": "code",
   "execution_count": 41,
   "metadata": {},
   "outputs": [
    {
     "ename": "TypeError",
     "evalue": "Neither the `x` nor `y` variable appears to be numeric.",
     "output_type": "error",
     "traceback": [
      "\u001b[0;31m---------------------------------------------------------------------------\u001b[0m",
      "\u001b[0;31mTypeError\u001b[0m                                 Traceback (most recent call last)",
      "\u001b[0;32m<ipython-input-41-292fc86d2be3>\u001b[0m in \u001b[0;36m<module>\u001b[0;34m\u001b[0m\n\u001b[0;32m----> 1\u001b[0;31m \u001b[0msns\u001b[0m\u001b[0;34m.\u001b[0m\u001b[0mboxplot\u001b[0m\u001b[0;34m(\u001b[0m\u001b[0mx\u001b[0m\u001b[0;34m=\u001b[0m\u001b[0;34m'studio'\u001b[0m\u001b[0;34m,\u001b[0m \u001b[0my\u001b[0m\u001b[0;34m=\u001b[0m\u001b[0;34m'worldwide_gross'\u001b[0m\u001b[0;34m,\u001b[0m \u001b[0mdata\u001b[0m\u001b[0;34m=\u001b[0m\u001b[0mmaster\u001b[0m\u001b[0;34m)\u001b[0m\u001b[0;34m\u001b[0m\u001b[0;34m\u001b[0m\u001b[0m\n\u001b[0m\u001b[1;32m      2\u001b[0m \u001b[0mplt\u001b[0m\u001b[0;34m.\u001b[0m\u001b[0mtitle\u001b[0m\u001b[0;34m(\u001b[0m\u001b[0;34m'Worldwide Gross by Studio'\u001b[0m\u001b[0;34m)\u001b[0m\u001b[0;34m\u001b[0m\u001b[0;34m\u001b[0m\u001b[0m\n\u001b[1;32m      3\u001b[0m \u001b[0mplt\u001b[0m\u001b[0;34m.\u001b[0m\u001b[0mxlabel\u001b[0m\u001b[0;34m(\u001b[0m\u001b[0;34m'Movie Studio'\u001b[0m\u001b[0;34m)\u001b[0m\u001b[0;34m\u001b[0m\u001b[0;34m\u001b[0m\u001b[0m\n\u001b[1;32m      4\u001b[0m \u001b[0mplt\u001b[0m\u001b[0;34m.\u001b[0m\u001b[0mylabel\u001b[0m\u001b[0;34m(\u001b[0m\u001b[0;34m'Worldwide Gross'\u001b[0m\u001b[0;34m)\u001b[0m\u001b[0;34m\u001b[0m\u001b[0;34m\u001b[0m\u001b[0m\n\u001b[1;32m      5\u001b[0m \u001b[0mplt\u001b[0m\u001b[0;34m.\u001b[0m\u001b[0mxticks\u001b[0m\u001b[0;34m(\u001b[0m\u001b[0mrotation\u001b[0m\u001b[0;34m=\u001b[0m\u001b[0;36m90\u001b[0m\u001b[0;34m)\u001b[0m\u001b[0;34m\u001b[0m\u001b[0;34m\u001b[0m\u001b[0m\n",
      "\u001b[0;32m/opt/anaconda3/envs/learn-env/lib/python3.8/site-packages/seaborn/_decorators.py\u001b[0m in \u001b[0;36minner_f\u001b[0;34m(*args, **kwargs)\u001b[0m\n\u001b[1;32m     44\u001b[0m             )\n\u001b[1;32m     45\u001b[0m         \u001b[0mkwargs\u001b[0m\u001b[0;34m.\u001b[0m\u001b[0mupdate\u001b[0m\u001b[0;34m(\u001b[0m\u001b[0;34m{\u001b[0m\u001b[0mk\u001b[0m\u001b[0;34m:\u001b[0m \u001b[0marg\u001b[0m \u001b[0;32mfor\u001b[0m \u001b[0mk\u001b[0m\u001b[0;34m,\u001b[0m \u001b[0marg\u001b[0m \u001b[0;32min\u001b[0m \u001b[0mzip\u001b[0m\u001b[0;34m(\u001b[0m\u001b[0msig\u001b[0m\u001b[0;34m.\u001b[0m\u001b[0mparameters\u001b[0m\u001b[0;34m,\u001b[0m \u001b[0margs\u001b[0m\u001b[0;34m)\u001b[0m\u001b[0;34m}\u001b[0m\u001b[0;34m)\u001b[0m\u001b[0;34m\u001b[0m\u001b[0;34m\u001b[0m\u001b[0m\n\u001b[0;32m---> 46\u001b[0;31m         \u001b[0;32mreturn\u001b[0m \u001b[0mf\u001b[0m\u001b[0;34m(\u001b[0m\u001b[0;34m**\u001b[0m\u001b[0mkwargs\u001b[0m\u001b[0;34m)\u001b[0m\u001b[0;34m\u001b[0m\u001b[0;34m\u001b[0m\u001b[0m\n\u001b[0m\u001b[1;32m     47\u001b[0m     \u001b[0;32mreturn\u001b[0m \u001b[0minner_f\u001b[0m\u001b[0;34m\u001b[0m\u001b[0;34m\u001b[0m\u001b[0m\n\u001b[1;32m     48\u001b[0m \u001b[0;34m\u001b[0m\u001b[0m\n",
      "\u001b[0;32m/opt/anaconda3/envs/learn-env/lib/python3.8/site-packages/seaborn/categorical.py\u001b[0m in \u001b[0;36mboxplot\u001b[0;34m(x, y, hue, data, order, hue_order, orient, color, palette, saturation, width, dodge, fliersize, linewidth, whis, ax, **kwargs)\u001b[0m\n\u001b[1;32m   2228\u001b[0m ):\n\u001b[1;32m   2229\u001b[0m \u001b[0;34m\u001b[0m\u001b[0m\n\u001b[0;32m-> 2230\u001b[0;31m     plotter = _BoxPlotter(x, y, hue, data, order, hue_order,\n\u001b[0m\u001b[1;32m   2231\u001b[0m                           \u001b[0morient\u001b[0m\u001b[0;34m,\u001b[0m \u001b[0mcolor\u001b[0m\u001b[0;34m,\u001b[0m \u001b[0mpalette\u001b[0m\u001b[0;34m,\u001b[0m \u001b[0msaturation\u001b[0m\u001b[0;34m,\u001b[0m\u001b[0;34m\u001b[0m\u001b[0;34m\u001b[0m\u001b[0m\n\u001b[1;32m   2232\u001b[0m                           width, dodge, fliersize, linewidth)\n",
      "\u001b[0;32m/opt/anaconda3/envs/learn-env/lib/python3.8/site-packages/seaborn/categorical.py\u001b[0m in \u001b[0;36m__init__\u001b[0;34m(self, x, y, hue, data, order, hue_order, orient, color, palette, saturation, width, dodge, fliersize, linewidth)\u001b[0m\n\u001b[1;32m    404\u001b[0m                  width, dodge, fliersize, linewidth):\n\u001b[1;32m    405\u001b[0m \u001b[0;34m\u001b[0m\u001b[0m\n\u001b[0;32m--> 406\u001b[0;31m         \u001b[0mself\u001b[0m\u001b[0;34m.\u001b[0m\u001b[0mestablish_variables\u001b[0m\u001b[0;34m(\u001b[0m\u001b[0mx\u001b[0m\u001b[0;34m,\u001b[0m \u001b[0my\u001b[0m\u001b[0;34m,\u001b[0m \u001b[0mhue\u001b[0m\u001b[0;34m,\u001b[0m \u001b[0mdata\u001b[0m\u001b[0;34m,\u001b[0m \u001b[0morient\u001b[0m\u001b[0;34m,\u001b[0m \u001b[0morder\u001b[0m\u001b[0;34m,\u001b[0m \u001b[0mhue_order\u001b[0m\u001b[0;34m)\u001b[0m\u001b[0;34m\u001b[0m\u001b[0;34m\u001b[0m\u001b[0m\n\u001b[0m\u001b[1;32m    407\u001b[0m         \u001b[0mself\u001b[0m\u001b[0;34m.\u001b[0m\u001b[0mestablish_colors\u001b[0m\u001b[0;34m(\u001b[0m\u001b[0mcolor\u001b[0m\u001b[0;34m,\u001b[0m \u001b[0mpalette\u001b[0m\u001b[0;34m,\u001b[0m \u001b[0msaturation\u001b[0m\u001b[0;34m)\u001b[0m\u001b[0;34m\u001b[0m\u001b[0;34m\u001b[0m\u001b[0m\n\u001b[1;32m    408\u001b[0m \u001b[0;34m\u001b[0m\u001b[0m\n",
      "\u001b[0;32m/opt/anaconda3/envs/learn-env/lib/python3.8/site-packages/seaborn/categorical.py\u001b[0m in \u001b[0;36mestablish_variables\u001b[0;34m(self, x, y, hue, data, orient, order, hue_order, units)\u001b[0m\n\u001b[1;32m    154\u001b[0m \u001b[0;34m\u001b[0m\u001b[0m\n\u001b[1;32m    155\u001b[0m             \u001b[0;31m# Figure out the plotting orientation\u001b[0m\u001b[0;34m\u001b[0m\u001b[0;34m\u001b[0m\u001b[0;34m\u001b[0m\u001b[0m\n\u001b[0;32m--> 156\u001b[0;31m             orient = infer_orient(\n\u001b[0m\u001b[1;32m    157\u001b[0m                 \u001b[0mx\u001b[0m\u001b[0;34m,\u001b[0m \u001b[0my\u001b[0m\u001b[0;34m,\u001b[0m \u001b[0morient\u001b[0m\u001b[0;34m,\u001b[0m \u001b[0mrequire_numeric\u001b[0m\u001b[0;34m=\u001b[0m\u001b[0mself\u001b[0m\u001b[0;34m.\u001b[0m\u001b[0mrequire_numeric\u001b[0m\u001b[0;34m\u001b[0m\u001b[0;34m\u001b[0m\u001b[0m\n\u001b[1;32m    158\u001b[0m             )\n",
      "\u001b[0;32m/opt/anaconda3/envs/learn-env/lib/python3.8/site-packages/seaborn/_core.py\u001b[0m in \u001b[0;36minfer_orient\u001b[0;34m(x, y, orient, require_numeric)\u001b[0m\n\u001b[1;32m   1327\u001b[0m     \u001b[0;32melif\u001b[0m \u001b[0mrequire_numeric\u001b[0m \u001b[0;32mand\u001b[0m \u001b[0;34m\"numeric\"\u001b[0m \u001b[0;32mnot\u001b[0m \u001b[0;32min\u001b[0m \u001b[0;34m(\u001b[0m\u001b[0mx_type\u001b[0m\u001b[0;34m,\u001b[0m \u001b[0my_type\u001b[0m\u001b[0;34m)\u001b[0m\u001b[0;34m:\u001b[0m\u001b[0;34m\u001b[0m\u001b[0;34m\u001b[0m\u001b[0m\n\u001b[1;32m   1328\u001b[0m         \u001b[0merr\u001b[0m \u001b[0;34m=\u001b[0m \u001b[0;34m\"Neither the `x` nor `y` variable appears to be numeric.\"\u001b[0m\u001b[0;34m\u001b[0m\u001b[0;34m\u001b[0m\u001b[0m\n\u001b[0;32m-> 1329\u001b[0;31m         \u001b[0;32mraise\u001b[0m \u001b[0mTypeError\u001b[0m\u001b[0;34m(\u001b[0m\u001b[0merr\u001b[0m\u001b[0;34m)\u001b[0m\u001b[0;34m\u001b[0m\u001b[0;34m\u001b[0m\u001b[0m\n\u001b[0m\u001b[1;32m   1330\u001b[0m \u001b[0;34m\u001b[0m\u001b[0m\n\u001b[1;32m   1331\u001b[0m     \u001b[0;32melse\u001b[0m\u001b[0;34m:\u001b[0m\u001b[0;34m\u001b[0m\u001b[0;34m\u001b[0m\u001b[0m\n",
      "\u001b[0;31mTypeError\u001b[0m: Neither the `x` nor `y` variable appears to be numeric."
     ]
    }
   ],
   "source": [
    "sns.boxplot(x='studio', y='worldwide_gross', data=master)\n",
    "plt.title('Worldwide Gross by Studio')\n",
    "plt.xlabel('Movie Studio')\n",
    "plt.ylabel('Worldwide Gross')\n",
    "plt.xticks(rotation=90)\n",
    "plt.show()\n"
   ]
  },
  {
   "cell_type": "code",
   "execution_count": null,
   "metadata": {},
   "outputs": [],
   "source": []
  }
 ],
 "metadata": {
  "kernelspec": {
   "display_name": "Python (learn-env)",
   "language": "python",
   "name": "learn-env"
  },
  "language_info": {
   "codemirror_mode": {
    "name": "ipython",
    "version": 3
   },
   "file_extension": ".py",
   "mimetype": "text/x-python",
   "name": "python",
   "nbconvert_exporter": "python",
   "pygments_lexer": "ipython3",
   "version": "3.8.5"
  }
 },
 "nbformat": 4,
 "nbformat_minor": 4
}
